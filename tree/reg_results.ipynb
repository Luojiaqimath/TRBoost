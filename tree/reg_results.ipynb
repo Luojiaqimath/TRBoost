{
 "cells": [
  {
   "cell_type": "code",
   "execution_count": 1,
   "metadata": {},
   "outputs": [],
   "source": [
    "import numpy as np\n",
    "import os\n",
    "import pandas as pd"
   ]
  },
  {
   "cell_type": "markdown",
   "metadata": {},
   "source": [
    "# reg standard"
   ]
  },
  {
   "cell_type": "code",
   "execution_count": 2,
   "metadata": {},
   "outputs": [],
   "source": [
    "folder_path = \"./reg_standard_result\"\n",
    "data_list = ['california', 'concrete',  'energy', 'power', 'kin8nm', 'wine_quality', ]"
   ]
  },
  {
   "cell_type": "code",
   "execution_count": 3,
   "metadata": {},
   "outputs": [],
   "source": [
    "# trb\n",
    "stad_df1 = pd.DataFrame(columns=['trb_loss_mean', 'trb_loss_std', 'trb_r2_mean', 'trb_r2_std',\n",
    "                                 'trb_est_mean', 'trb_ets_std'],\n",
    "                        index=data_list)\n",
    "for i, dataset in enumerate(data_list):\n",
    "    data = dict(np.load(os.path.join(folder_path, dataset, 'metric_lists.npz')))\n",
    "    stad_df1.iloc[i:(i+1), :] = data['trb_loss'].mean(),data['trb_loss'].std(),\\\n",
    "        data['trb_r2'].mean(),data['trb_r2'].std(), data['trb_nestimator'].mean(),data['trb_nestimator'].std()"
   ]
  },
  {
   "cell_type": "code",
   "execution_count": 4,
   "metadata": {},
   "outputs": [],
   "source": [
    "# xgb\n",
    "stad_df2 = pd.DataFrame(columns=['xgb_loss_mean', 'xgb_loss_std', 'xgb_r2_mean', 'xgb_r2_std',\n",
    "                                 'xgb_est_mean', 'xgb_ets_std'],\n",
    "                        index=data_list)\n",
    "for i, dataset in enumerate(data_list):\n",
    "    data = dict(np.load(os.path.join(folder_path, dataset, 'metric_lists.npz')))\n",
    "    stad_df2.iloc[i:(i+1), :] = data['xgb_loss'].mean(),data['xgb_loss'].std(),\\\n",
    "        data['xgb_r2'].mean(),data['xgb_r2'].std(),data['xgb_nestimator'].mean(),data['xgb_nestimator'].std()"
   ]
  },
  {
   "cell_type": "code",
   "execution_count": 5,
   "metadata": {},
   "outputs": [],
   "source": [
    "# gbdt\n",
    "stad_df3 = pd.DataFrame(columns=['gb_loss_mean', 'gb_loss_std', 'gb_r2_mean', 'gb_r2_std',\n",
    "                                 'gb_est_mean', 'gb_ets_std'],\n",
    "                        index=data_list)\n",
    "for i, dataset in enumerate(data_list):\n",
    "    data = dict(np.load(os.path.join(folder_path, dataset, 'metric_lists.npz')))\n",
    "    stad_df3.iloc[i:(i+1), :] = data['gbdt_loss'].mean(),data['gbdt_loss'].std(),\\\n",
    "        data['gbdt_r2'].mean(),data['gbdt_r2'].std(),data['gbdt_nestimator'].mean(),data['gbdt_nestimator'].std()"
   ]
  },
  {
   "cell_type": "code",
   "execution_count": 7,
   "metadata": {},
   "outputs": [
    {
     "data": {
      "text/html": [
       "<div>\n",
       "<style scoped>\n",
       "    .dataframe tbody tr th:only-of-type {\n",
       "        vertical-align: middle;\n",
       "    }\n",
       "\n",
       "    .dataframe tbody tr th {\n",
       "        vertical-align: top;\n",
       "    }\n",
       "\n",
       "    .dataframe thead th {\n",
       "        text-align: right;\n",
       "    }\n",
       "</style>\n",
       "<table border=\"1\" class=\"dataframe\">\n",
       "  <thead>\n",
       "    <tr style=\"text-align: right;\">\n",
       "      <th></th>\n",
       "      <th>gb_loss_mean</th>\n",
       "      <th>gb_loss_std</th>\n",
       "      <th>xgb_loss_mean</th>\n",
       "      <th>xgb_loss_std</th>\n",
       "      <th>trb_loss_mean</th>\n",
       "      <th>trb_loss_std</th>\n",
       "    </tr>\n",
       "  </thead>\n",
       "  <tbody>\n",
       "    <tr>\n",
       "      <th>california</th>\n",
       "      <td>0.193855</td>\n",
       "      <td>0.009667</td>\n",
       "      <td>0.162956</td>\n",
       "      <td>0.006144</td>\n",
       "      <td>0.164546</td>\n",
       "      <td>0.007277</td>\n",
       "    </tr>\n",
       "    <tr>\n",
       "      <th>concrete</th>\n",
       "      <td>18.53824</td>\n",
       "      <td>3.500118</td>\n",
       "      <td>18.867254</td>\n",
       "      <td>5.532921</td>\n",
       "      <td>17.535065</td>\n",
       "      <td>4.816916</td>\n",
       "    </tr>\n",
       "    <tr>\n",
       "      <th>energy</th>\n",
       "      <td>0.172264</td>\n",
       "      <td>0.027585</td>\n",
       "      <td>0.123707</td>\n",
       "      <td>0.022466</td>\n",
       "      <td>0.122849</td>\n",
       "      <td>0.023799</td>\n",
       "    </tr>\n",
       "    <tr>\n",
       "      <th>power</th>\n",
       "      <td>12.688564</td>\n",
       "      <td>1.146003</td>\n",
       "      <td>10.67528</td>\n",
       "      <td>0.931508</td>\n",
       "      <td>10.61986</td>\n",
       "      <td>1.047919</td>\n",
       "    </tr>\n",
       "    <tr>\n",
       "      <th>kin8nm</th>\n",
       "      <td>0.025098</td>\n",
       "      <td>0.000986</td>\n",
       "      <td>0.017663</td>\n",
       "      <td>0.000906</td>\n",
       "      <td>0.015944</td>\n",
       "      <td>0.000627</td>\n",
       "    </tr>\n",
       "    <tr>\n",
       "      <th>wine_quality</th>\n",
       "      <td>0.173476</td>\n",
       "      <td>0.008927</td>\n",
       "      <td>0.147495</td>\n",
       "      <td>0.012991</td>\n",
       "      <td>0.140711</td>\n",
       "      <td>0.007742</td>\n",
       "    </tr>\n",
       "  </tbody>\n",
       "</table>\n",
       "</div>"
      ],
      "text/plain": [
       "             gb_loss_mean gb_loss_std xgb_loss_mean xgb_loss_std  \\\n",
       "california       0.193855    0.009667      0.162956     0.006144   \n",
       "concrete         18.53824    3.500118     18.867254     5.532921   \n",
       "energy           0.172264    0.027585      0.123707     0.022466   \n",
       "power           12.688564    1.146003      10.67528     0.931508   \n",
       "kin8nm           0.025098    0.000986      0.017663     0.000906   \n",
       "wine_quality     0.173476    0.008927      0.147495     0.012991   \n",
       "\n",
       "             trb_loss_mean trb_loss_std  \n",
       "california        0.164546     0.007277  \n",
       "concrete         17.535065     4.816916  \n",
       "energy            0.122849     0.023799  \n",
       "power             10.61986     1.047919  \n",
       "kin8nm            0.015944     0.000627  \n",
       "wine_quality      0.140711     0.007742  "
      ]
     },
     "execution_count": 7,
     "metadata": {},
     "output_type": "execute_result"
    }
   ],
   "source": [
    "pd.concat([stad_df3.iloc[:, :2], stad_df2.iloc[:, :2], stad_df1.iloc[:, :2]], axis=1)"
   ]
  },
  {
   "cell_type": "markdown",
   "metadata": {},
   "source": [
    "# reg gradient"
   ]
  },
  {
   "cell_type": "code",
   "execution_count": 8,
   "metadata": {},
   "outputs": [
    {
     "data": {
      "text/html": [
       "<div>\n",
       "<style scoped>\n",
       "    .dataframe tbody tr th:only-of-type {\n",
       "        vertical-align: middle;\n",
       "    }\n",
       "\n",
       "    .dataframe tbody tr th {\n",
       "        vertical-align: top;\n",
       "    }\n",
       "\n",
       "    .dataframe thead th {\n",
       "        text-align: right;\n",
       "    }\n",
       "</style>\n",
       "<table border=\"1\" class=\"dataframe\">\n",
       "  <thead>\n",
       "    <tr style=\"text-align: right;\">\n",
       "      <th></th>\n",
       "      <th>grad_loss_mean</th>\n",
       "      <th>grad_loss_std</th>\n",
       "      <th>grad_r2_mean</th>\n",
       "      <th>grad_r2_std</th>\n",
       "      <th>grad_est_mean</th>\n",
       "      <th>grad_ets_std</th>\n",
       "    </tr>\n",
       "  </thead>\n",
       "  <tbody>\n",
       "    <tr>\n",
       "      <th>california</th>\n",
       "      <td>0.162205</td>\n",
       "      <td>0.008896</td>\n",
       "      <td>0.959574</td>\n",
       "      <td>0.002008</td>\n",
       "      <td>97.4</td>\n",
       "      <td>2.57682</td>\n",
       "    </tr>\n",
       "    <tr>\n",
       "      <th>concrete</th>\n",
       "      <td>17.429418</td>\n",
       "      <td>4.474525</td>\n",
       "      <td>0.936703</td>\n",
       "      <td>0.015769</td>\n",
       "      <td>89.4</td>\n",
       "      <td>12.273549</td>\n",
       "    </tr>\n",
       "    <tr>\n",
       "      <th>energy</th>\n",
       "      <td>0.127345</td>\n",
       "      <td>0.012362</td>\n",
       "      <td>0.998745</td>\n",
       "      <td>0.00014</td>\n",
       "      <td>82.2</td>\n",
       "      <td>22.220711</td>\n",
       "    </tr>\n",
       "    <tr>\n",
       "      <th>power</th>\n",
       "      <td>10.662279</td>\n",
       "      <td>0.936784</td>\n",
       "      <td>0.963579</td>\n",
       "      <td>0.002756</td>\n",
       "      <td>99.0</td>\n",
       "      <td>1.549193</td>\n",
       "    </tr>\n",
       "    <tr>\n",
       "      <th>kin8nm</th>\n",
       "      <td>0.016726</td>\n",
       "      <td>0.000401</td>\n",
       "      <td>0.755779</td>\n",
       "      <td>0.004692</td>\n",
       "      <td>99.6</td>\n",
       "      <td>0.489898</td>\n",
       "    </tr>\n",
       "    <tr>\n",
       "      <th>wine_quality</th>\n",
       "      <td>0.14418</td>\n",
       "      <td>0.008237</td>\n",
       "      <td>0.899428</td>\n",
       "      <td>0.003613</td>\n",
       "      <td>99.4</td>\n",
       "      <td>0.8</td>\n",
       "    </tr>\n",
       "  </tbody>\n",
       "</table>\n",
       "</div>"
      ],
      "text/plain": [
       "             grad_loss_mean grad_loss_std grad_r2_mean grad_r2_std  \\\n",
       "california         0.162205      0.008896     0.959574    0.002008   \n",
       "concrete          17.429418      4.474525     0.936703    0.015769   \n",
       "energy             0.127345      0.012362     0.998745     0.00014   \n",
       "power             10.662279      0.936784     0.963579    0.002756   \n",
       "kin8nm             0.016726      0.000401     0.755779    0.004692   \n",
       "wine_quality        0.14418      0.008237     0.899428    0.003613   \n",
       "\n",
       "             grad_est_mean grad_ets_std  \n",
       "california            97.4      2.57682  \n",
       "concrete              89.4    12.273549  \n",
       "energy                82.2    22.220711  \n",
       "power                 99.0     1.549193  \n",
       "kin8nm                99.6     0.489898  \n",
       "wine_quality          99.4          0.8  "
      ]
     },
     "execution_count": 8,
     "metadata": {},
     "output_type": "execute_result"
    }
   ],
   "source": [
    "folder_path = \"./reg_gradient_result\"\n",
    "data = dict(np.load(os.path.join(folder_path, dataset, 'metric_lists.npz')))\n",
    "grad_df = pd.DataFrame(columns=['grad_loss_mean', 'grad_loss_std', 'grad_r2_mean', 'grad_r2_std',\n",
    "                                'grad_est_mean', 'grad_ets_std'],\n",
    "                           index=data_list)\n",
    "for i, dataset in enumerate(data_list):\n",
    "    data = dict(np.load(os.path.join(folder_path, dataset, 'metric_lists.npz')))\n",
    "    grad_df.iloc[i:(i+1), :] = data['trb_loss'].mean(), data['trb_loss'].std(),\\\n",
    "        data['trb_r2'].mean(), data['trb_r2'].std(),\\\n",
    "            data['trb_nestimator'].mean(), data['trb_nestimator'].std()\n",
    "grad_df"
   ]
  },
  {
   "cell_type": "code",
   "execution_count": null,
   "metadata": {},
   "outputs": [],
   "source": []
  }
 ],
 "metadata": {
  "interpreter": {
   "hash": "7ed999faa5743a97fd1779ad6b235c831720d8033546bba8b0dfe2340e5f08dc"
  },
  "kernelspec": {
   "display_name": "Python 3.9.12 ('base')",
   "language": "python",
   "name": "python3"
  },
  "language_info": {
   "codemirror_mode": {
    "name": "ipython",
    "version": 3
   },
   "file_extension": ".py",
   "mimetype": "text/x-python",
   "name": "python",
   "nbconvert_exporter": "python",
   "pygments_lexer": "ipython3",
   "version": "3.9.12"
  },
  "orig_nbformat": 4
 },
 "nbformat": 4,
 "nbformat_minor": 2
}
